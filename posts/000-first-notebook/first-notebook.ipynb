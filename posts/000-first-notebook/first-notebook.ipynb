{
 "cells": [
  {
   "cell_type": "raw",
   "id": "9b70fc31",
   "metadata": {},
   "source": [
    "---\n",
    "title: \"First Post\"\n",
    "author: \"Eric Pinzur\"\n",
    "date: \"6 Sept 2023\"\n",
    "format: \n",
    "  html:\n",
    "    code-fold: show\n",
    "    code-overflow: scroll\n",
    "\n",
    "jupyter: python3\n",
    "categories:\n",
    "  - bunny\n",
    "---"
   ]
  },
  {
   "cell_type": "markdown",
   "id": "235d821b-1ff8-4ef6-8f0b-559c95254479",
   "metadata": {},
   "source": [
    "# Here is an example first post\n",
    "\n",
    "In this notebook, I'll do some things\n",
    "\n",
    "1. Install some stuff\n",
    "2. Write a script\n",
    "3. Run it\n",
    "4. Show a picture"
   ]
  },
  {
   "cell_type": "markdown",
   "id": "6d550080",
   "metadata": {},
   "source": [
    "\n",
    "First lets install the libraries we will use below."
   ]
  },
  {
   "cell_type": "code",
   "execution_count": 1,
   "id": "70440303",
   "metadata": {},
   "outputs": [
    {
     "name": "stdout",
     "output_type": "stream",
     "text": [
      "Collecting pyfiglet\n",
      "  Downloading pyfiglet-0.8.post1-py2.py3-none-any.whl (865 kB)\n",
      "\u001b[2K     \u001b[90m━━━━━━━━━━━━━━━━━━━━━━━━━━━━━━━━━━━━━━━\u001b[0m \u001b[32m865.8/865.8 kB\u001b[0m \u001b[31m7.6 MB/s\u001b[0m eta \u001b[36m0:00:00\u001b[0ma \u001b[36m0:00:01\u001b[0m\n",
      "\u001b[?25hInstalling collected packages: pyfiglet\n",
      "Successfully installed pyfiglet-0.8.post1\n",
      "Note: you may need to restart the kernel to use updated packages.\n"
     ]
    }
   ],
   "source": [
    "%pip install pyfiglet"
   ]
  },
  {
   "cell_type": "code",
   "execution_count": 3,
   "id": "ed117a7b",
   "metadata": {},
   "outputs": [
    {
     "name": "stdout",
     "output_type": "stream",
     "text": [
      " _____ _          _     ____           _   \n",
      "|  ___(_)_ __ ___| |_  |  _ \\ ___  ___| |_ \n",
      "| |_  | | '__/ __| __| | |_) / _ \\/ __| __|\n",
      "|  _| | | |  \\__ \\ |_  |  __/ (_) \\__ \\ |_ \n",
      "|_|   |_|_|  |___/\\__| |_|   \\___/|___/\\__|\n",
      "                                           \n",
      "\n"
     ]
    }
   ],
   "source": [
    "#| code-line-numbers: true\n",
    "\n",
    "import pyfiglet\n",
    "\n",
    "# Text to be converted to ASCII art\n",
    "text = \"First Post\"\n",
    "\n",
    "# Generate ASCII art\n",
    "ascii_art = pyfiglet.figlet_format(text)\n",
    "\n",
    "# Print the ASCII art\n",
    "print(ascii_art)"
   ]
  },
  {
   "cell_type": "raw",
   "id": "e92c8f60",
   "metadata": {},
   "source": [
    "![Bunny](bunny.jpg)"
   ]
  }
 ],
 "metadata": {
  "kernelspec": {
   "display_name": "Python 3 (ipykernel)",
   "language": "python",
   "name": "python3"
  },
  "language_info": {
   "codemirror_mode": {
    "name": "ipython",
    "version": 3
   },
   "file_extension": ".py",
   "mimetype": "text/x-python",
   "name": "python",
   "nbconvert_exporter": "python",
   "pygments_lexer": "ipython3",
   "version": "3.11.4"
  }
 },
 "nbformat": 4,
 "nbformat_minor": 5
}
