{
 "cells": [
  {
   "cell_type": "raw",
   "metadata": {},
   "source": [
    "---\n",
    "title: \"OpenAI - Intro to Fine-Tuning Models\"\n",
    "subtitle: \"Data Science for non Data Scientists\"\n",
    "author: \"Eric Pinzur\"\n",
    "date: \"9 Sept 2023\"\n",
    "format: \n",
    "  html:\n",
    "    code-fold: show\n",
    "    code-overflow: scroll\n",
    "    css: styles.css\n",
    "\n",
    "jupyter: python3\n",
    "categories:\n",
    "  - chat-gpt\n",
    "  - fine-tuning\n",
    "  - gen-ai\n",
    "  - kaskada\n",
    "  - python\n",
    "  - open-ai\n",
    "---"
   ]
  },
  {
   "cell_type": "markdown",
   "metadata": {},
   "source": [
    "## Intro\n",
    "\n",
    "First I'd like to say that I am not a Data Scientist. I've worked with Data Scientist's in the past, but my knowledge in the space is limited. With the advent of high-quality large language models (LLMs), software engineers like me can now do Data Science with little-to-no Data Science background. \n",
    "\n",
    "In this post, I'm going to discuss my learnings around fine-tuning OpenAI GPT models. As an example, I'll use my work on [BeepGPT](https://github.com/kaskada-ai/beep-gpt), where I fine-tuned a model to predict which conversations might be interesting to users of a Slack workspace. \n",
    "\n",
    "We'll cover the following topics in detail below:\n",
    "\n",
    "* Building Training Examples\n",
    "* Refining Training Examples\n",
    "* Model Fine-Tuning\n",
    "* Model Validation\n",
    "\n",
    "#### A few tips before we get started\n",
    "\n",
    "First is a willingness to experiment. Model fine-turing is an iterative process. Most likely the first way you will build your training examples will not produce a successful model. When working on BeepGPT I experimented with five different scenarios (over a week) before I found one that was successful at predicting user interest.\n",
    "\n",
    "Second is the importance of data quality. When fine-tuning a model, numerous training examples are sent to a model to update its behavior. The examples must contain strong signals that relate to the desired output. Despite the major advances made recently with LLMs, garbage in still leads to garbage out.\n",
    "\n",
    "Finally it is important to have many training examples. Ideally a fine tuning job should be run with at least a few thousand training examples. The more examples that you can provide to the model, the more it can learn, and the better the predictions will be in production."
   ]
  },
  {
   "cell_type": "markdown",
   "metadata": {},
   "source": [
    "## Definitions\n",
    "\n",
    "Here are a few concepts that you should understand before continuing...\n",
    "\n",
    "#### Tokens\n",
    "OpenAI's models process text as tokens instead of as characters. Tokens represent sets of characters that commonly occur in a certain sequence. On average, a token represents about four characters. You can use [OpenAI's tokenizer tool](https://platform.openai.com/tokenizer) to see how different texts get converted into tokens, for example:\n",
    "\n",
    "> <p><span class=\"tokenizer-tkn tokenizer-tkn-0\" title=\"15592\">Team</span><span class=\"tokenizer-tkn tokenizer-tkn-1\" title=\"750\"> did</span><span class=\"tokenizer-tkn tokenizer-tkn-2\" title=\"345\"> you</span><span class=\"tokenizer-tkn tokenizer-tkn-3\" title=\"2883\"> enjoy</span><span class=\"tokenizer-tkn tokenizer-tkn-4\" title=\"262\"> the</span><span class=\"tokenizer-tkn tokenizer-tkn-0\" title=\"299\"> n</span><span class=\"tokenizer-tkn tokenizer-tkn-1\" title=\"620\">ach</span><span class=\"tokenizer-tkn tokenizer-tkn-2\" title=\"418\">os</span><span class=\"tokenizer-tkn tokenizer-tkn-3\" title=\"7415\"> yesterday</span><span class=\"tokenizer-tkn tokenizer-tkn-4\" title=\"30\">?</span></p>\n",
    ">\n",
    "> The color highlighting shows how 41 characters becomes 10 tokens. \n",
    ">\n",
    "> You can mouseover to see the actual token values.\n",
    "\n",
    "Common words and most positive integers under 1000 equate to a single token. Whitespace and capitalization matter. ` Team`, ` team`, `Team`, and `team` equate to 4 different tokens.\n",
    "\n",
    "\n",
    "#### Prompts & Completions\n",
    "Prompts are the input to LLM models. When working with ChatGPT, the prompt is the question we ask the model.\n",
    "\n",
    "Completions are the responses from LLM models. When working with ChatGPT, the completion is the model's answer to our question. \n",
    "\n",
    "#### Training Examples\n",
    "Training examples are prompt & completion pairs. The prompt is the text we would have sent the model in production, and the completion is the response we would have expected back. \n",
    "\n",
    "#### Maximum Token Length\n",
    "The maximum length of an API request to a model, in tokens. This includes both the prompt and completion. Depending on the model, there is a different maximum length. For fine-tuning, we need to make sure that each training example is less than this size."
   ]
  },
  {
   "cell_type": "markdown",
   "metadata": {},
   "source": [
    "## Building Training Examples\n",
    "\n",
    "#### Hypothesis generation\n",
    "\n",
    "Before we start building training examples, you need to form hypotheses about what you want to predict and how you might do so successfully. This is where the iterative process starts.\n",
    "\n",
    "For BeepGPT I experimented with the following ideas: \n",
    "\n",
    "* For a set of recent messages in a channel, try to predict:\n",
    "  * The reaction (if any) to the most recent message\n",
    "  * The next user that will reply\n",
    "  * The set of users that might interact next (reply or react)\n",
    "* For the set of recent messages in a conversation, try to predict:\n",
    "  * The set of users that might interact next\n",
    "  * The next user that will reply\n",
    "\n",
    "I was most successful at fine-tuning a model for the final idea: For the set of recent messages in a conversation, predict the next user to reply. The rest of the post will focus on this."
   ]
  },
  {
   "cell_type": "markdown",
   "metadata": {},
   "source": [
    "::: {.callout-tip}\n",
    "I used [Kaskada](https://kaskada.io) to quickly iterate on these ideas. Kaskada is a tool that makes it easy to collect and aggregate events from raw data. You don't need to pre-process anything. Just import the raw events and start experimenting. Furthermore Kaskada ensures that your examples will not be subject to leakage, which is a big problem in predictive modeling. In a future post, I'll show how I used Kaskada to generate training examples for each of the ideas presented above.\n",
    ":::"
   ]
  },
  {
   "cell_type": "markdown",
   "metadata": {},
   "source": [
    "#### Consider this example conversation:\n",
    "\n",
    "::: {.hanging-indent .margin-0}\n",
    "**UserA**: Team did you enjoy the nachos yesterday?\n",
    "\n",
    "**UserB**: Yes, I love mexican food.\n",
    "\n",
    "**UserA**: <@UserC> I'm trying to get my application deployed in Kubernetes. However, I can't seem to figure out if I should use a deployment or a stateful set. I found some docs here: http://tinyurl.com/4k53dc8h but I'm still not sure which to choose. Can you help?\n",
    "\n",
    "**UserB**: UserC is at lunch now. They will be back in about an hour. I don't know much about this either, but I can try to help. Or is it okay to wait until UserC is back?\n",
    "\n",
    "**UserA**: I can wait for UserC to get back.\n",
    "\n",
    "**UserC**: I can help with this. Can you tell me more about your application? Does it have any persistent storage requirements?\n",
    ":::"
   ]
  },
  {
   "cell_type": "markdown",
   "metadata": {},
   "source": [
    "#### Training example construction\n",
    "\n",
    "If we just look at the first two messages, we can generate a training example. The prompt is the first message, and the completion is the user that responded.\n",
    "\n",
    "* **Prompt**: \"Team did you enjoy the nachos yesterday?\"\n",
    "* **Completion**: \"UserB\"\n",
    "\n",
    "Instead if we consider the last 4 messages (we use two new-line characters to join messages):\n",
    "\n",
    "* **Prompt**: \"<@UserC> I'm trying to get my application deployed in Kubernetes. However, I can't seem to figure out if I should use a deployment or a stateful set. I found some docs here: http://tinyurl.com/4k53dc8h but I'm still not sure which to choose. Can you help?\\n\\nUserC is at lunch now. They will be back in about an hour. I don't know much about this either, but I can try to help. Or is it okay to wait until UserC is back?\\n\\nI can wait for UserC to get back.\"\n",
    "* **Completion**: \"UserC\"\n",
    "\n",
    "The combination of the prompt and the completion is a training example. When using the OpenAI fine-tuning API, each training example should be a blob of json in a specific format on a single line.\n",
    "\n",
    "Converting our two examples above, we now have:\n",
    "\n",
    "```{.json .code-overflow-wrap}\n",
    "{\"prompt\":\"Team did you enjoy the nachos yesterday?\", \"completion\":\"UserB\"}\n",
    "{\"prompt\":\"<@UserC> I'm trying to get my application deployed in Kubernetes. However, I can't seem to figure out if I should use a deployment or a stateful set. I found some docs here: http://tinyurl.com/4k53dc8h but I'm still not sure which to choose. Can you help?\\n\\nUserC is at lunch now. They will be back in about an hour. I don't know much about this either, but I can try to help. Or is it okay to wait until UserC is back?\\n\\nI can wait for UserC to get back.\", \"completion\":\"UserC\"}\n",
    "```"
   ]
  },
  {
   "cell_type": "markdown",
   "metadata": {},
   "source": [
    "#### Formatting examples\n",
    "\n",
    "Next, there are several formatting rules that you are recommended to follow. I don't understand why these are recommended but I followed them anyway. \n",
    "\n",
    "* All prompts should end with the same set of characters. The set of characters used should not occur elsewhere in your dataset. The recommended string for textual input data is `\\n\\n###\\n\\n`.\n",
    "* All completions should start with a single whitespace character. \n",
    "\n",
    "Applying these rules to our examples, we get:\n",
    "\n",
    "```{.json .code-overflow-wrap}\n",
    "{\"prompt\":\"Team did you enjoy the nachos yesterday?\\n\\n###\\n\\n\", \"completion\":\" UserB\"}\n",
    "{\"prompt\":\"<@UserC> I'm trying to get my application deployed in Kubernetes. However, I can't seem to figure out if I should use a deployment or a stateful set. I found some docs here: http://tinyurl.com/4k53dc8h but I'm still not sure which to choose. Can you help?\\n\\nUserC is at lunch now. They will be back in about an hour. I don't know much about this either, but I can try to help. Or is it okay to wait until UserC is back?\\n\\nI can wait for UserC to get back.\\n\\n###\\n\\n\", \"completion\":\" UserC\"}\n",
    "```\n"
   ]
  },
  {
   "cell_type": "markdown",
   "metadata": {},
   "source": [
    "#### Training example cleanup\n",
    "\n",
    "Finally I found that model training works best if the following is done:\n",
    "\n",
    "* Non-textual data like http-links, code blocks, and ids are removed from the prompts.\n",
    "* Completions are reduced to a single token in length.\n",
    "\n",
    "We can use regex and other string functions to remove non-textual data from the prompts. And we can use standard data science tools like the [Scikit-Learn LabelEncoder](https://scikit-learn.org/stable/modules/generated/sklearn.preprocessing.LabelEncoder.html) to create a mapping from UserIds to integers. Remember that positive integers under one thousand map to unique tokens in OpenAI.\n",
    "\n",
    "So now we have:\n",
    "\n",
    "```{.json .code-overflow-wrap}\n",
    "{\"prompt\":\"Team did you enjoy the nachos yesterday?\\n\\n###\\n\\n\", \"completion\":\" 1\"}\n",
    "{\"prompt\":\"I'm trying to get my application deployed in Kubernetes. However, I can't seem to figure out if I should use a deployment or a stateful set. I found some docs here: but I'm still not sure which to choose. Can you help?\\n\\nUserC is at lunch now. They will be back in about an hour. I don't know much about this either, but I can try to help. Or is it okay to wait until UserC is back?\\n\\nI can wait for UserC to get back.\\n\\n###\\n\\n\", \"completion\":\" 2\"}\n",
    "```\n",
    "\n",
    "::: {.callout-important}\n",
    "I found that removing ids was especially important. Before I did so, the model essentially learned how to map from input UserId to output user. It skipped learning anything useful from the actual text of the messages.\n",
    ":::"
   ]
  },
  {
   "cell_type": "markdown",
   "metadata": {},
   "source": [
    "We now have 2 training examples that we could use for fine-tuning a model. \n",
    "\n",
    "For fine-tuning we should have several thousand examples. Using a tool like [Kaskada](https://kaskada.io), it should be relatively easy to generate examples like this from your full slack history. "
   ]
  },
  {
   "cell_type": "markdown",
   "metadata": {},
   "source": [
    "## Refining Training Examples\n",
    "\n",
    "Before proceeding with fine-tuning, I recommend the taking the following steps:\n",
    "\n",
    "1. Use the ChatCompletion API to determine which examples contain enough signal to be useful\n",
    "2. Use the OpenAI CLI to validate the training examples are in the correct format."
   ]
  },
  {
   "cell_type": "markdown",
   "metadata": {},
   "source": [
    "#### Determining Example Signal Strength\n",
    "\n",
    "I recommend you ensure each example contains a strong enough signal for predicting your desired outcome. If an example doesn't have enough signal, you should consider excluding it from your training set.\n",
    "\n",
    "Depending on your goal, it may be also helpful to include some negative examples. Negative examples help train the model about when to not make a prediction, or stated another way, about when to predict that no action should be taken.\n",
    "\n",
    "For example, with BeepGPT we are trying to predict when a set of messages might be interesting for a specific user. If we look at our training examples from the previous section, the first does not contain anything interesting. We would not want to alert anyone about this message. Therefore we should convert this example into a negative example.\n",
    "\n",
    "The second example does contain a strong signal. Here we would like to alert users that have answered questions about kubernetes in the past. This example should be left as is.\n",
    "\n",
    "To convert an example to a negative example, we simply need to change its completion to indicate a non-response. I chose to use ` nil` for this, which is represented by a single token in OpenAI.\n",
    "\n",
    "```{.json .code-overflow-wrap}\n",
    "{\"prompt\":\"Team did you enjoy the nachos yesterday?\\n\\n###\\n\\n\", \"completion\":\" nil\"}\n",
    "{\"prompt\":\"I'm trying to get my application deployed in Kubernetes. However, I can't seem to figure out if I should use a deployment or a stateful set. I found some docs here: but I'm still not sure which to choose. Can you help?\\n\\nUserC is at lunch now. They will be back in about an hour. I don't know much about this either, but I can try to help. Or is it okay to wait until UserC is back?\\n\\nI can wait for UserC to get back.\\n\\n###\\n\\n\", \"completion\":\" 2\"}\n",
    "```"
   ]
  },
  {
   "cell_type": "markdown",
   "metadata": {},
   "source": [
    "Instead of manually going through each generated example to determine if it should be positive or negative, we can use OpenAIs ChatGPT API to do this work for us. However we still need to review a few examples in order to provide enough information to the ChatGPT to make decisions on our behalf.\n",
    "\n",
    "Look through your generated examples and try to find 25-50 for each bucket: **positive** and **negative**. Add these to files: `examples_pos.jsonl` and `examples_neg.jsonl`\n",
    "\n",
    "Positive (strong signal) examples:\n",
    "\n",
    "* I've been utilizing the Rust syntax highlighter for my code blocks. It does a good job of differentiating between functions and literals.\n",
    "* The agent doesn’t push to prometheus, this is just another proxy location that prometheus scrapes.\n",
    "\n",
    "Negative (weak signal) examples:\n",
    "\n",
    "* Some very interesting ideas in here, thx for sharing\n",
    "* Were there any issues with this? I'll start verifying a few things in a bit.\n",
    "* Standup?"
   ]
  },
  {
   "cell_type": "markdown",
   "metadata": {},
   "source": [
    "We will now use ChatGPT with few-shot learning to iterate over our full set of training examples and label each as positive or negative. \n",
    "\n",
    "First we will generate an instruction set for ChatGPT, by building up an array of messages in json. Each message object contains `role` and `content` properties. The `role` can be either `system`, `user`, or `assistant`.\n",
    "\n",
    "The first message should always be from the `system` role, and provide general instructions to the model of its function. Following this, message pairs of `user` and `assistant` should be added, where the `user` content is our example input and the `assistant` content is our expected response from ChatGPT. These are the \"few-shot\" learnings that ChatGPT uses to help it determine our desired output.\n",
    "\n",
    "Then we append a final `user` message to the instruction set that contains the content that we want to have evaluated by the model.\n",
    "\n",
    "Below is some example python code for doing this refinement. Some Notes:\n",
    "\n",
    "* The code is written in blocks with the intention of running inside a jupyter notebook environment. \n",
    "* If you want to run this code yourself, you will need an OpenAI API key. \n",
    "* The code also assumes that you have a file named `examples.jsonl` which contains the full set of training examples generated above."
   ]
  },
  {
   "cell_type": "code",
   "execution_count": null,
   "metadata": {},
   "outputs": [],
   "source": [
    "#install required packages\n",
    "%pip install openai backoff"
   ]
  },
  {
   "cell_type": "markdown",
   "metadata": {},
   "source": [
    "::: {.callout-note}\n",
    "Note that we use the `backoff` library to retry requests that have failed due to a rate-limit error. Despite this addition, sometimes the process stalls and must be manually restarted. The code below appends to the output file instead of replacing it, so that the process can be restarted after an error occurs.\n",
    ":::"
   ]
  },
  {
   "cell_type": "code",
   "execution_count": null,
   "metadata": {},
   "outputs": [],
   "source": [
    "# import packages and init openAI with your API key\n",
    "import backoff, getpass, json, openai, time\n",
    "\n",
    "openai.api_key = getpass.getpass('OpenAI API Key:')"
   ]
  },
  {
   "cell_type": "code",
   "execution_count": null,
   "metadata": {},
   "outputs": [],
   "source": [
    "# get a total count of examples in the input file\n",
    "total_count = 0\n",
    "with open(f'examples.jsonl', 'r') as in_file:\n",
    "    for line in in_file:\n",
    "        total_count += 1\n",
    "\n",
    "# initialize a progress counter\n",
    "success_count = 0\n",
    "\n",
    "# build up the instruction set for few-shot learning\n",
    "\n",
    "# start with a `system` message that provides the general instructions to the model\n",
    "system_instructions = \"You are a helpful assistant. Your job is to determine \\\n",
    "    if a prompt will be helpful for fine-tuning a model. All prompts start with \\\n",
    "    'start -->' and end with: '\\\\n\\\\n###\\\\n\\\\n'. You should respond 'yes' if you \\\n",
    "    think the prompt has enough context to be helpful, or 'no' if not. No \\\n",
    "    explanation is needed. You should only respond with 'yes' or 'no'.\"\n",
    "instructions = [{\"role\": \"system\", \"content\": system_instructions}]\n",
    "\n",
    "# then add the positive and negative examples that we manually pulled out of the full set\n",
    "pos = open(f'examples_pos.jsonl', 'r')\n",
    "neg = open(f'examples_neg.jsonl', 'r')\n",
    "\n",
    "while True:\n",
    "    pos_line = pos.readline()\n",
    "    neg_line = neg.readline()\n",
    "\n",
    "    if (not pos_line) or (not neg_line):\n",
    "        break\n",
    "\n",
    "    pos_data = json.loads(pos_line)\n",
    "    neg_data = json.loads(neg_line)\n",
    "\n",
    "    # alternate adding positive and negative examples\n",
    "    instructions.append({\"role\": \"user\", \"content\": f'start -->{pos_data[\"prompt\"]}'})\n",
    "    instructions.append({\"role\": \"assistant\", \"content\": \"yes\"})\n",
    "    instructions.append({\"role\": \"user\", \"content\": f'start -->{neg_data[\"prompt\"]}'})\n",
    "    instructions.append({\"role\": \"assistant\",\"content\": \"no\"})\n",
    "\n",
    "pos.close()\n",
    "neg.close()\n",
    "\n",
    "# setup a method to retry requests automatically\n",
    "@backoff.on_exception(backoff.expo, (openai.error.RateLimitError, openai.error.ServiceUnavailableError))\n",
    "def chat_with_backoff(**kwargs):\n",
    "    # add an additional delay, because the first retry almost always fails\n",
    "    time.sleep(1)\n",
    "    try:\n",
    "        return openai.ChatCompletion.create(**kwargs)\n",
    "    except openai.error.InvalidRequestError:\n",
    "        return None"
   ]
  },
  {
   "cell_type": "code",
   "execution_count": null,
   "metadata": {},
   "outputs": [],
   "source": [
    "# iterate through each example, using the ChatCompletion API \n",
    "# to determine if it contains a strong signal for fine-tuning purposes.\n",
    "# if this code block stalls, you can restart it to resume processing. \n",
    "\n",
    "count = 0\n",
    "with open(f'examples.jsonl', 'r') as in_file:\n",
    "    with open(f'examples_refined.jsonl', 'a') as out_file\n",
    "        for line in in_file:\n",
    "            count +=1\n",
    "\n",
    "            # skip examples already processed on previous runs\n",
    "            if count < success_count:\n",
    "                continue\n",
    "\n",
    "            print(f'Currently processing line {count} of {total_count}')\n",
    "\n",
    "            # get the next example from the file\n",
    "            data = json.loads(line)\n",
    "            prompt = data[\"prompt\"]\n",
    "\n",
    "            # add the example to a copy of the instruction set\n",
    "            msgs = instructions.copy()\n",
    "            msgs.append({\"role\": \"user\", \"content\": f'start -->{prompt}'})\n",
    "\n",
    "            # send the request\n",
    "            res = chat_with_backoff(model = \"gpt-3.5-turbo\", messages = msgs)\n",
    "\n",
    "            # if request failed for some reason, skip example\n",
    "            if not res:\n",
    "                continue\n",
    "\n",
    "            # get the response and write the example back to disk\n",
    "            if res[\"choices\"][0][\"message\"][\"content\"] == \"no\":\n",
    "                # for negative messages, re-write the completion as ` nil`\n",
    "                data[\"completion\"] = \" nil\"\n",
    "            out_file.write(json.dumps(data) + '\\n') \n",
    "            out_file.flush()\n",
    "\n",
    "            # save progress for restart\n",
    "            success_count = count"
   ]
  },
  {
   "cell_type": "markdown",
   "metadata": {},
   "source": [
    "::: {.callout-warning title=\"Tips & Warnings\"}\n",
    "* If you get an error about too many tokens used, reduce the number of positive and negative examples in your generated instructions. Or try to summarize the positive & negative examples (manually or with ChatGPT) to reduce their length.\n",
    "* This will cost a fair amount on OpenAI. A rough estimate is $50 per 10,000 examples.\n",
    "* This can take a long time to run to completion. The ChatCompletion API limits the number of tokens used per minute. In my experience, running 10,000 examples through this process takes about 8 hours.\n",
    ":::"
   ]
  },
  {
   "cell_type": "markdown",
   "metadata": {},
   "source": [
    "#### Example Validation\n",
    "\n",
    "Finally, will use a CLI tool provide by OpenAI to perform some validation on our training examples and split them into two files. The tool does the following for us:\n",
    "\n",
    "* makes sure all prompts end with same suffix\n",
    "* removes examples that use too many tokens\n",
    "* removes duplicated examples\n",
    "\n",
    "We can run the CLI tool directly from a python jupyter environment with the code below."
   ]
  },
  {
   "cell_type": "code",
   "execution_count": null,
   "metadata": {},
   "outputs": [],
   "source": [
    "from openai import cli\n",
    "from types import SimpleNamespace\n",
    "\n",
    "args = SimpleNamespace(file='examples_refined.jsonl', quiet=True)\n",
    "cli.FineTune.prepare_data(args)"
   ]
  },
  {
   "cell_type": "markdown",
   "metadata": {},
   "source": [
    "The output of the above command should be two files:\n",
    "\n",
    "* `examples_refined_prepared_train.jsonl` -> We will use this to fine-tune our model\n",
    "* `examples_refined_prepared_valid.jsonl` -> We will use this to validate our fine-tuned model"
   ]
  },
  {
   "cell_type": "markdown",
   "metadata": {},
   "source": [
    "## Model Fine-Tuning\n",
    "\n",
    "Now that we have refined training examples, we can fine-tune a model for our purposes.\n",
    "\n",
    "To do this, we take the following steps:\n",
    "\n",
    "1. Upload training data\n",
    "1. Create a fine-tuning job\n",
    "1. Wait for the job to finish\n",
    "1. Experiment with the fine-tuned model"
   ]
  },
  {
   "cell_type": "markdown",
   "metadata": {},
   "source": [
    "#### Upload training data\n",
    "\n",
    "First we upload the refined examples to OpenAI. We need to make sure the file has successfully uploaded before moving onto the next step."
   ]
  },
  {
   "cell_type": "code",
   "execution_count": null,
   "metadata": {},
   "outputs": [],
   "source": [
    "training_file_name = \"examples_refined_prepared_train.jsonl\"\n",
    "\n",
    "# start the file upload\n",
    "training_file_id = cli.FineTune._get_or_upload(training_file_name, True)\n",
    "\n",
    "# Poll and display the upload status until the it finishes\n",
    "while True:\n",
    "    time.sleep(2)\n",
    "    file_status = openai.File.retrieve(training_file_id)[\"status\"]\n",
    "    print(f'Upload status: {file_status}')\n",
    "    if file_status in [\"succeeded\", \"failed\", \"processed\"]:\n",
    "        break"
   ]
  },
  {
   "cell_type": "markdown",
   "metadata": {},
   "source": [
    "#### Create a fine-tuning job\n",
    "\n",
    "Next we create a fine-tuning job using the file_id from the upload. \n",
    "\n",
    "When doing fine-tuning, you need to choose a base model to start from. The current options are:\n",
    "\n",
    "* `babbage-002` -> Capable of straightforward tasks. Very fast and low cost.\n",
    "* `davinci-002` -> Most capable GPT3 model. More expensive to train and run in production.\n",
    "\n",
    "You also need to choose the number of epochs to train the model for. An epoch refers one full cycle through the training dataset.\n",
    "\n",
    "With the example set I was using for BeepGPT I found that 8 epochs on `babbage-002` produced a model with a similar capability as 4 on `davinci-002`. Depending on your use case you may or may not have a similar result."
   ]
  },
  {
   "cell_type": "code",
   "execution_count": null,
   "metadata": {},
   "outputs": [],
   "source": [
    "create_args = {\n",
    "    \"training_file\": training_file_id,\n",
    "    \"model\": \"davinci-002\",\n",
    "    \"n_epochs\": 4,\n",
    "    \"suffix\": \"beep-gpt\"\n",
    "}\n",
    "\n",
    "# Create the fine-tune job and retrieve the job ID\n",
    "resp = openai.FineTune.create(**create_args)\n",
    "job_id = resp[\"id\"]"
   ]
  },
  {
   "cell_type": "markdown",
   "metadata": {},
   "source": [
    "#### Wait for the job to finish\n",
    "\n",
    "After the fine-tuning job has been created, we need to wait for it to start processing, and then for it to finish. \n",
    "\n",
    "Depending on the current backlog at OpenAI, I've seen that jobs can take up to a dozen hours to start. \n",
    "\n",
    "After the job starts successfully, you can then see its status, and wait for it to finish. This can also take a long time. When using `davinci-002` with 4 epochs, I estimate about 1 hour per 1000 training examples."
   ]
  },
  {
   "cell_type": "code",
   "execution_count": null,
   "metadata": {},
   "outputs": [],
   "source": [
    "# Poll and display the fine-tuning status until the it finishes\n",
    "while True:\n",
    "    time.sleep(5)\n",
    "    job_details = openai.FineTune.retrieve(id=job_id)\n",
    "    \n",
    "    print(f'Job status: {job_details[\"status\"]}')\n",
    "    print(f'Job events: {job_details[\"events\"]}')\n",
    "\n",
    "    if job_details[\"status\"] == \"succeeded\":\n",
    "        model_id = job_details[\"fine_tuned_model\"]\n",
    "        print(f'Successfully fine-tuned model with ID: {model_id}')\n",
    "\n",
    "    if job_details[\"status\"] in [\"failed\", \"succeeded\"]:\n",
    "        break"
   ]
  },
  {
   "cell_type": "markdown",
   "metadata": {},
   "source": [
    "#### Try using the fine-tuned model\n",
    "\n",
    "Now that we have a finished model, we can try sending a few prompts and see if it recommends alerting any users. We can use the validation file for this.\n",
    "\n",
    "See the [OpenAI docs](https://platform.openai.com/docs/api-reference/completions/create) for info on the parameters we send to the Completion API."
   ]
  },
  {
   "cell_type": "code",
   "execution_count": null,
   "metadata": {},
   "outputs": [],
   "source": [
    "# choose which row in the validation file to send\n",
    "row = 6\n",
    "\n",
    "count = 0\n",
    "with open(f'examples_refined_prepared_valid.jsonl', 'r') as in_file:\n",
    "    for line in in_file:\n",
    "        count +=1\n",
    "\n",
    "        if count < row:\n",
    "            continue\n",
    "\n",
    "        data = json.loads(line)\n",
    "        prompt = data[\"prompt\"]\n",
    "        completion = data[\"completion\"]\n",
    "\n",
    "        # this is the text we send to the model for it to \n",
    "        # determine if we should alert a user\n",
    "        print(f'Prompt: {prompt}')\n",
    "\n",
    "        # this is the user (or nil) we would have expected \n",
    "        # for the response (from the validation file)\n",
    "        print(f'Completion: {completion}')\n",
    "\n",
    "        # this is the response from the model. The `text` field contains \n",
    "        # the actual prediction. The `logprobs` array contains the \n",
    "        # log-probability from the 5 highest potential matches.\n",
    "        print(f'Prediction:')\n",
    "        openai.Completion.create(model=model_id, prompt=prompt, max_tokens=1, logprobs=5, temperature=0)"
   ]
  },
  {
   "cell_type": "markdown",
   "metadata": {},
   "source": [
    "## Model Validation\n",
    "\n",
    "In order to validate your model, you can run it over the full validation data set.\n",
    "\n",
    "\n",
    "\n"
   ]
  },
  {
   "cell_type": "markdown",
   "metadata": {},
   "source": [
    "## Conclusion and Next Steps\n",
    "\n"
   ]
  }
 ],
 "metadata": {
  "kernelspec": {
   "display_name": "Python 3",
   "language": "python",
   "name": "python3"
  },
  "language_info": {
   "codemirror_mode": {
    "name": "ipython",
    "version": 3
   },
   "file_extension": ".py",
   "mimetype": "text/x-python",
   "name": "python",
   "nbconvert_exporter": "python",
   "pygments_lexer": "ipython3",
   "version": "3.11.4"
  },
  "orig_nbformat": 4
 },
 "nbformat": 4,
 "nbformat_minor": 2
}
